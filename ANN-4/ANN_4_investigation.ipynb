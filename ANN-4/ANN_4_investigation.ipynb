{
  "nbformat": 4,
  "nbformat_minor": 0,
  "metadata": {
    "colab": {
      "name": "ANN_4_investigation.ipynb",
      "provenance": [],
      "collapsed_sections": []
    },
    "kernelspec": {
      "name": "python3",
      "display_name": "Python 3"
    },
    "language_info": {
      "name": "python"
    },
    "accelerator": "GPU"
  },
  "cells": [
    {
      "cell_type": "markdown",
      "source": [
        "# Hyperparameter Tuning for ANN-4"
      ],
      "metadata": {
        "id": "mKjKF5ewmcuU"
      }
    },
    {
      "cell_type": "code",
      "execution_count": null,
      "metadata": {
        "id": "Kcex2JCzmCXV",
        "colab": {
          "base_uri": "https://localhost:8080/"
        },
        "outputId": "3d8c51f2-ae46-498f-bed5-8225bf08192d"
      },
      "outputs": [
        {
          "output_type": "stream",
          "name": "stdout",
          "text": [
            "Looking in indexes: https://pypi.org/simple, https://us-python.pkg.dev/colab-wheels/public/simple/\n",
            "Collecting keras-tuner\n",
            "  Downloading keras_tuner-1.1.2-py3-none-any.whl (133 kB)\n",
            "\u001b[K     |████████████████████████████████| 133 kB 8.1 MB/s \n",
            "\u001b[?25hRequirement already satisfied: numpy in /usr/local/lib/python3.7/dist-packages (from keras-tuner) (1.21.6)\n",
            "Requirement already satisfied: packaging in /usr/local/lib/python3.7/dist-packages (from keras-tuner) (21.3)\n",
            "Requirement already satisfied: requests in /usr/local/lib/python3.7/dist-packages (from keras-tuner) (2.23.0)\n",
            "Requirement already satisfied: ipython in /usr/local/lib/python3.7/dist-packages (from keras-tuner) (5.5.0)\n",
            "Collecting kt-legacy\n",
            "  Downloading kt_legacy-1.0.4-py3-none-any.whl (9.6 kB)\n",
            "Requirement already satisfied: tensorboard in /usr/local/lib/python3.7/dist-packages (from keras-tuner) (2.8.0)\n",
            "Requirement already satisfied: pygments in /usr/local/lib/python3.7/dist-packages (from ipython->keras-tuner) (2.6.1)\n",
            "Requirement already satisfied: simplegeneric>0.8 in /usr/local/lib/python3.7/dist-packages (from ipython->keras-tuner) (0.8.1)\n",
            "Requirement already satisfied: pickleshare in /usr/local/lib/python3.7/dist-packages (from ipython->keras-tuner) (0.7.5)\n",
            "Requirement already satisfied: setuptools>=18.5 in /usr/local/lib/python3.7/dist-packages (from ipython->keras-tuner) (57.4.0)\n",
            "Requirement already satisfied: decorator in /usr/local/lib/python3.7/dist-packages (from ipython->keras-tuner) (4.4.2)\n",
            "Requirement already satisfied: pexpect in /usr/local/lib/python3.7/dist-packages (from ipython->keras-tuner) (4.8.0)\n",
            "Requirement already satisfied: prompt-toolkit<2.0.0,>=1.0.4 in /usr/local/lib/python3.7/dist-packages (from ipython->keras-tuner) (1.0.18)\n",
            "Requirement already satisfied: traitlets>=4.2 in /usr/local/lib/python3.7/dist-packages (from ipython->keras-tuner) (5.1.1)\n",
            "Requirement already satisfied: wcwidth in /usr/local/lib/python3.7/dist-packages (from prompt-toolkit<2.0.0,>=1.0.4->ipython->keras-tuner) (0.2.5)\n",
            "Requirement already satisfied: six>=1.9.0 in /usr/local/lib/python3.7/dist-packages (from prompt-toolkit<2.0.0,>=1.0.4->ipython->keras-tuner) (1.15.0)\n",
            "Requirement already satisfied: pyparsing!=3.0.5,>=2.0.2 in /usr/local/lib/python3.7/dist-packages (from packaging->keras-tuner) (3.0.9)\n",
            "Requirement already satisfied: ptyprocess>=0.5 in /usr/local/lib/python3.7/dist-packages (from pexpect->ipython->keras-tuner) (0.7.0)\n",
            "Requirement already satisfied: chardet<4,>=3.0.2 in /usr/local/lib/python3.7/dist-packages (from requests->keras-tuner) (3.0.4)\n",
            "Requirement already satisfied: certifi>=2017.4.17 in /usr/local/lib/python3.7/dist-packages (from requests->keras-tuner) (2022.5.18.1)\n",
            "Requirement already satisfied: urllib3!=1.25.0,!=1.25.1,<1.26,>=1.21.1 in /usr/local/lib/python3.7/dist-packages (from requests->keras-tuner) (1.24.3)\n",
            "Requirement already satisfied: idna<3,>=2.5 in /usr/local/lib/python3.7/dist-packages (from requests->keras-tuner) (2.10)\n",
            "Requirement already satisfied: wheel>=0.26 in /usr/local/lib/python3.7/dist-packages (from tensorboard->keras-tuner) (0.37.1)\n",
            "Requirement already satisfied: protobuf>=3.6.0 in /usr/local/lib/python3.7/dist-packages (from tensorboard->keras-tuner) (3.17.3)\n",
            "Requirement already satisfied: markdown>=2.6.8 in /usr/local/lib/python3.7/dist-packages (from tensorboard->keras-tuner) (3.3.7)\n",
            "Requirement already satisfied: tensorboard-data-server<0.7.0,>=0.6.0 in /usr/local/lib/python3.7/dist-packages (from tensorboard->keras-tuner) (0.6.1)\n",
            "Requirement already satisfied: werkzeug>=0.11.15 in /usr/local/lib/python3.7/dist-packages (from tensorboard->keras-tuner) (1.0.1)\n",
            "Requirement already satisfied: grpcio>=1.24.3 in /usr/local/lib/python3.7/dist-packages (from tensorboard->keras-tuner) (1.46.3)\n",
            "Requirement already satisfied: tensorboard-plugin-wit>=1.6.0 in /usr/local/lib/python3.7/dist-packages (from tensorboard->keras-tuner) (1.8.1)\n",
            "Requirement already satisfied: google-auth-oauthlib<0.5,>=0.4.1 in /usr/local/lib/python3.7/dist-packages (from tensorboard->keras-tuner) (0.4.6)\n",
            "Requirement already satisfied: google-auth<3,>=1.6.3 in /usr/local/lib/python3.7/dist-packages (from tensorboard->keras-tuner) (1.35.0)\n",
            "Requirement already satisfied: absl-py>=0.4 in /usr/local/lib/python3.7/dist-packages (from tensorboard->keras-tuner) (1.0.0)\n",
            "Requirement already satisfied: cachetools<5.0,>=2.0.0 in /usr/local/lib/python3.7/dist-packages (from google-auth<3,>=1.6.3->tensorboard->keras-tuner) (4.2.4)\n",
            "Requirement already satisfied: rsa<5,>=3.1.4 in /usr/local/lib/python3.7/dist-packages (from google-auth<3,>=1.6.3->tensorboard->keras-tuner) (4.8)\n",
            "Requirement already satisfied: pyasn1-modules>=0.2.1 in /usr/local/lib/python3.7/dist-packages (from google-auth<3,>=1.6.3->tensorboard->keras-tuner) (0.2.8)\n",
            "Requirement already satisfied: requests-oauthlib>=0.7.0 in /usr/local/lib/python3.7/dist-packages (from google-auth-oauthlib<0.5,>=0.4.1->tensorboard->keras-tuner) (1.3.1)\n",
            "Requirement already satisfied: importlib-metadata>=4.4 in /usr/local/lib/python3.7/dist-packages (from markdown>=2.6.8->tensorboard->keras-tuner) (4.11.4)\n",
            "Requirement already satisfied: zipp>=0.5 in /usr/local/lib/python3.7/dist-packages (from importlib-metadata>=4.4->markdown>=2.6.8->tensorboard->keras-tuner) (3.8.0)\n",
            "Requirement already satisfied: typing-extensions>=3.6.4 in /usr/local/lib/python3.7/dist-packages (from importlib-metadata>=4.4->markdown>=2.6.8->tensorboard->keras-tuner) (4.2.0)\n",
            "Requirement already satisfied: pyasn1<0.5.0,>=0.4.6 in /usr/local/lib/python3.7/dist-packages (from pyasn1-modules>=0.2.1->google-auth<3,>=1.6.3->tensorboard->keras-tuner) (0.4.8)\n",
            "Requirement already satisfied: oauthlib>=3.0.0 in /usr/local/lib/python3.7/dist-packages (from requests-oauthlib>=0.7.0->google-auth-oauthlib<0.5,>=0.4.1->tensorboard->keras-tuner) (3.2.0)\n",
            "Installing collected packages: kt-legacy, keras-tuner\n",
            "Successfully installed keras-tuner-1.1.2 kt-legacy-1.0.4\n"
          ]
        }
      ],
      "source": [
        "# importing necessary public modules\n",
        "import numpy as np\n",
        "from tensorflow import keras\n",
        "from keras.models import Sequential\n",
        "from keras.layers import Dense, Dropout\n",
        "from tensorflow.keras.optimizers import Adam, SGD\n",
        "from tensorflow.keras import Input, Model\n",
        "import tensorflow as tf\n",
        "!pip install keras-tuner\n",
        "import keras_tuner as kt"
      ]
    },
    {
      "cell_type": "code",
      "source": [
        "# check to see if GPU is in use\n",
        "tf.test.gpu_device_name()"
      ],
      "metadata": {
        "colab": {
          "base_uri": "https://localhost:8080/",
          "height": 35
        },
        "id": "N6KFqD5fmiGE",
        "outputId": "3f82e885-86c2-4c3b-d28d-367c1145bd58"
      },
      "execution_count": null,
      "outputs": [
        {
          "output_type": "execute_result",
          "data": {
            "text/plain": [
              "'/device:GPU:0'"
            ],
            "application/vnd.google.colaboratory.intrinsic+json": {
              "type": "string"
            }
          },
          "metadata": {},
          "execution_count": 2
        }
      ]
    },
    {
      "cell_type": "code",
      "source": [
        "# connection to google drive + import data\n",
        "import os\n",
        "from google.colab import drive\n",
        "drive.mount('/content/drive', force_remount=True)\n",
        "os.chdir(\"/content/drive/My Drive/content\")\n",
        "\n",
        "# importing Heston data\n",
        "data = np.genfromtxt('heston_data.csv', delimiter=',')\n",
        "\n",
        "# inputs: converting spot price + strike price to moneyness (s/k)\n",
        "inputs = data[:,:9] \n",
        "X = np.array([np.array([x[0]/x[1], x[2],x[3],x[4], x[5], x[6], x[7], x[8]])for x in inputs])\n",
        "\n",
        "# outputs: scaling the prices byt the strike price (p/k)\n",
        "y_calls = np.array(data[:,-2]) / data[:,1]\n",
        "y_puts = np.array(data[:,-1]) / data[:,1]\n",
        "\n",
        "# training data\n",
        "X_train = X[:150000]\n",
        "y_calls_train = y_calls[:150000]\n",
        "y_puts_train = y_puts[:150000]\n",
        "\n",
        "# validation data\n",
        "X_val = X[150000:175000]\n",
        "y_calls_val = y_calls[150000:175000]\n",
        "y_puts_val = y_puts[150000:175000]\n",
        "\n",
        "# testing data\n",
        "X_test = X[175000:]\n",
        "y_calls_test = y_calls[175000:]\n",
        "y_puts_test = y_puts[175000:]\n",
        "\n",
        "# shape check\n",
        "print(X_train.shape)\n",
        "print(y_calls_train.shape)\n",
        "print(y_puts_train.shape)\n",
        "print(X_val.shape)\n",
        "print(y_calls_val.shape)\n",
        "print(y_puts_val.shape)\n",
        "print(X_test.shape)\n",
        "print(y_calls_test.shape)\n",
        "print(y_puts_test.shape)"
      ],
      "metadata": {
        "colab": {
          "base_uri": "https://localhost:8080/"
        },
        "id": "Bu1PaF1Fmjf0",
        "outputId": "abeeff58-b0cd-4ceb-e12d-8fb4e6c55dbc"
      },
      "execution_count": null,
      "outputs": [
        {
          "output_type": "stream",
          "name": "stdout",
          "text": [
            "Mounted at /content/drive\n",
            "(150000, 8)\n",
            "(150000,)\n",
            "(150000,)\n",
            "(25000, 8)\n",
            "(25000,)\n",
            "(25000,)\n",
            "(25000, 8)\n",
            "(25000,)\n",
            "(25000,)\n"
          ]
        }
      ]
    },
    {
      "cell_type": "code",
      "source": [
        "# Random Search method\n",
        "def build_model(hp):\n",
        "  inputs = Input(shape=(8,), name='input')\n",
        "\n",
        "  activations = hp.Choice('activation',['relu', 'tanh', 'selu'])\n",
        "  dropout = hp.Choice('dropout', [True, False])\n",
        "\n",
        "  x = inputs\n",
        "  for i in range(hp.Int('num_layers', 1, 10, step=1)):\n",
        "    x = Dense(units=hp.Int('units',\n",
        "                           min_value = 50,\n",
        "                           max_value = 800,\n",
        "                           step = 50),\n",
        "              kernel_initializer='glorot_uniform',\n",
        "              activation = activations)(x)\n",
        "    if dropout == True:\n",
        "      x = Dropout(0.2)(x)\n",
        "    else:\n",
        "      x = x\n",
        "    \n",
        "                      \n",
        "  call = Dense(1, name='call_output')(x)\n",
        "  put = Dense(1, name='put_output')(x)\n",
        "\n",
        "  opt = keras.optimizers.Adam(hp.Choice('learning_rate',\n",
        "                                        [1e-2, 1e-3, 1e-4, 1e-5]))\n",
        "\n",
        "  model = Model(inputs=inputs, outputs=[call, put])\n",
        "  model.compile(loss='mse', optimizer=opt)\n",
        "\n",
        "  return model\n",
        "\n",
        "tuner = kt.RandomSearch(build_model,\n",
        "                     objective='val_loss',\n",
        "                     max_trials=40,\n",
        "                     #directory='monte_carlo_heston_dir',\n",
        "                     project_name = 'heston_dir')"
      ],
      "metadata": {
        "id": "p2KM1gVIoxaz",
        "colab": {
          "base_uri": "https://localhost:8080/"
        },
        "outputId": "9dbbbbdf-5776-4c62-c3fc-e2463b07fa0c"
      },
      "execution_count": null,
      "outputs": [
        {
          "output_type": "stream",
          "name": "stdout",
          "text": [
            "INFO:tensorflow:Reloading Oracle from existing project ./heston_dir/oracle.json\n"
          ]
        }
      ]
    },
    {
      "cell_type": "code",
      "source": [
        "# summary of hyperparameter spaces for Random Search to consider\n",
        "tuner.search_space_summary()"
      ],
      "metadata": {
        "colab": {
          "base_uri": "https://localhost:8080/"
        },
        "id": "O7Biu6W2nPRA",
        "outputId": "76b77dad-be63-4732-df03-012b1408e09f"
      },
      "execution_count": null,
      "outputs": [
        {
          "output_type": "stream",
          "name": "stdout",
          "text": [
            "Search space summary\n",
            "Default search space size: 5\n",
            "activation (Choice)\n",
            "{'default': 'relu', 'conditions': [], 'values': ['relu', 'tanh', 'selu'], 'ordered': False}\n",
            "dropout (Choice)\n",
            "{'default': 1, 'conditions': [], 'values': [1, 0], 'ordered': True}\n",
            "num_layers (Int)\n",
            "{'default': None, 'conditions': [], 'min_value': 1, 'max_value': 10, 'step': 1, 'sampling': None}\n",
            "units (Int)\n",
            "{'default': None, 'conditions': [], 'min_value': 50, 'max_value': 800, 'step': 50, 'sampling': None}\n",
            "learning_rate (Choice)\n",
            "{'default': 0.01, 'conditions': [], 'values': [0.01, 0.001, 0.0001, 1e-05], 'ordered': True}\n"
          ]
        }
      ]
    },
    {
      "cell_type": "code",
      "source": [
        "# searching algorithm \n",
        "tuner.search(X_test, [y_calls_test, y_puts_test],\n",
        "             epochs = 40,\n",
        "             validation_data=(X_val, [y_calls_val, y_puts_val]))"
      ],
      "metadata": {
        "id": "IPEgGDMGt0UU",
        "colab": {
          "base_uri": "https://localhost:8080/"
        },
        "outputId": "1094d1b6-52f3-4dcb-c320-aff8fbecd289"
      },
      "execution_count": null,
      "outputs": [
        {
          "output_type": "stream",
          "name": "stdout",
          "text": [
            "Trial 40 Complete [00h 03m 34s]\n",
            "val_loss: 8.63887180457823e-05\n",
            "\n",
            "Best val_loss So Far: 2.0125140508753248e-05\n",
            "Total elapsed time: 02h 16m 48s\n",
            "INFO:tensorflow:Oracle triggered exit\n"
          ]
        }
      ]
    },
    {
      "cell_type": "code",
      "source": [
        "# summary of random search to show best settings\n",
        "tuner.results_summary()"
      ],
      "metadata": {
        "colab": {
          "base_uri": "https://localhost:8080/"
        },
        "id": "Uv1vpZjtPbqv",
        "outputId": "b8fd84eb-16c5-41b6-8684-1052f79ac630"
      },
      "execution_count": null,
      "outputs": [
        {
          "output_type": "stream",
          "name": "stdout",
          "text": [
            "Results summary\n",
            "Results in ./heston_dir\n",
            "Showing 10 best trials\n",
            "<keras_tuner.engine.objective.Objective object at 0x7f37c61dd090>\n",
            "Trial summary\n",
            "Hyperparameters:\n",
            "activation: relu\n",
            "dropout: 0\n",
            "num_layers: 9\n",
            "units: 500\n",
            "learning_rate: 1e-05\n",
            "Score: 2.0125140508753248e-05\n",
            "Trial summary\n",
            "Hyperparameters:\n",
            "activation: tanh\n",
            "dropout: 0\n",
            "num_layers: 2\n",
            "units: 250\n",
            "learning_rate: 0.001\n",
            "Score: 3.477330756140873e-05\n",
            "Trial summary\n",
            "Hyperparameters:\n",
            "activation: selu\n",
            "dropout: 0\n",
            "num_layers: 7\n",
            "units: 350\n",
            "learning_rate: 0.0001\n",
            "Score: 3.7531848647631705e-05\n",
            "Trial summary\n",
            "Hyperparameters:\n",
            "activation: tanh\n",
            "dropout: 0\n",
            "num_layers: 7\n",
            "units: 150\n",
            "learning_rate: 0.0001\n",
            "Score: 7.28537343093194e-05\n",
            "Trial summary\n",
            "Hyperparameters:\n",
            "activation: selu\n",
            "dropout: 0\n",
            "num_layers: 2\n",
            "units: 750\n",
            "learning_rate: 1e-05\n",
            "Score: 7.925083627924323e-05\n",
            "Trial summary\n",
            "Hyperparameters:\n",
            "activation: tanh\n",
            "dropout: 0\n",
            "num_layers: 4\n",
            "units: 350\n",
            "learning_rate: 0.001\n",
            "Score: 8.285707735922188e-05\n",
            "Trial summary\n",
            "Hyperparameters:\n",
            "activation: tanh\n",
            "dropout: 0\n",
            "num_layers: 9\n",
            "units: 800\n",
            "learning_rate: 0.0001\n",
            "Score: 8.63887180457823e-05\n",
            "Trial summary\n",
            "Hyperparameters:\n",
            "activation: tanh\n",
            "dropout: 0\n",
            "num_layers: 4\n",
            "units: 200\n",
            "learning_rate: 0.001\n",
            "Score: 0.00010682427091524005\n",
            "Trial summary\n",
            "Hyperparameters:\n",
            "activation: tanh\n",
            "dropout: 0\n",
            "num_layers: 10\n",
            "units: 600\n",
            "learning_rate: 0.0001\n",
            "Score: 0.00011029218876501545\n",
            "Trial summary\n",
            "Hyperparameters:\n",
            "activation: tanh\n",
            "dropout: 0\n",
            "num_layers: 8\n",
            "units: 250\n",
            "learning_rate: 0.001\n",
            "Score: 0.00013625375868286937\n"
          ]
        }
      ]
    },
    {
      "cell_type": "markdown",
      "source": [
        "According to the Random Search method, the best hyperparameters are:\n",
        "*   ReLU activation\n",
        "*   9 layers\n",
        "*   500 neurons\n",
        "*   Dropout rate of 0\n",
        "*   Learning rate of 1e-05\n",
        "\n",
        "\n",
        "\n",
        "\n",
        "\n",
        "\n",
        "\n"
      ],
      "metadata": {
        "id": "cQoEsXB1OE__"
      }
    },
    {
      "cell_type": "code",
      "source": [
        ""
      ],
      "metadata": {
        "id": "gslu6oV6evsM"
      },
      "execution_count": null,
      "outputs": []
    }
  ]
}