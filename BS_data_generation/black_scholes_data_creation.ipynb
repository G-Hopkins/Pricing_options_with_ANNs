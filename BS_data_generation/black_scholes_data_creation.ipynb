{
  "cells": [
    {
      "cell_type": "code",
      "execution_count": null,
      "id": "24df96f3-ca18-4725-a276-07fa49bc9217",
      "metadata": {
        "id": "24df96f3-ca18-4725-a276-07fa49bc9217"
      },
      "outputs": [],
      "source": [
        "# necessary modules\n",
        "\n",
        "import numpy as np\n",
        "from scipy.stats.qmc import LatinHypercube,discrepancy, scale\n",
        "from option_pricing_formulas import Black_scholes"
      ]
    },
    {
      "cell_type": "code",
      "execution_count": null,
      "id": "9ffb7b86-ed41-4be5-9322-2c090af0fd44",
      "metadata": {
        "id": "9ffb7b86-ed41-4be5-9322-2c090af0fd44",
        "outputId": "aea6ece2-8262-41c6-8dfa-7ef7e4200f36"
      },
      "outputs": [
        {
          "name": "stdout",
          "output_type": "stream",
          "text": [
            "LHS Space Size: (1000000, 5)\n"
          ]
        }
      ],
      "source": [
        "# LHS space creation for 5 variables with 1,000,000 samples (1000000, 5)\n",
        "\n",
        "sampler = LatinHypercube(5).random(n=1000000)\n",
        "print('LHS Space Size: ' + str(sampler.shape))"
      ]
    },
    {
      "cell_type": "code",
      "execution_count": null,
      "id": "d25b353b-0c8d-4d16-afca-1b2605a6935a",
      "metadata": {
        "id": "d25b353b-0c8d-4d16-afca-1b2605a6935a"
      },
      "outputs": [],
      "source": [
        "# filling the hypercube with random values within ranges and then adding their option prices\n",
        "\n",
        "# spot price, strike price, risk-free-rate, time-to-maturity, volatility\n",
        "samples = scale(sampler, [200, 100, 0.02, 0.2, 0.05], [300, 400, 0.1, 1, 1])\n",
        "\n",
        "# list to append prices to with their input parameters\n",
        "samples_with_prices = []\n",
        "\n",
        "# loop over hypercube samples and add their corresponding call and put prices to them\n",
        "for i in range(len(samples+1)):\n",
        "    call_price = Black_scholes('call',round(samples[i][0],4), round(samples[i][1],4),round(samples[i][2],4),\n",
        "                        round(samples[i][3],4),round(samples[i][4],4))\n",
        "    \n",
        "    put_price = Black_scholes('put',round(samples[i][0],4), round(samples[i][1],4),round(samples[i][2],4),\n",
        "                        round(samples[i][3],4),round(samples[i][4],4))\n",
        "    \n",
        "    updated_sample = new_instance = [round(samples[i][0],4), round(samples[i][1],4),round(samples[i][2],4),\n",
        "                    round(samples[i][3],4),round(samples[i][4],4),round(call_price,4), round(put_price, 4)]\n",
        "    \n",
        "    samples_with_prices.append(updated_sample)"
      ]
    },
    {
      "cell_type": "code",
      "execution_count": null,
      "id": "f21011de-7f43-4175-b53e-cb08b9ae184a",
      "metadata": {
        "id": "f21011de-7f43-4175-b53e-cb08b9ae184a",
        "outputId": "fac18bf0-a376-49f8-b356-0ca10c0c28ab"
      },
      "outputs": [
        {
          "name": "stdout",
          "output_type": "stream",
          "text": [
            "[287.3919, 387.8057, 0.0263, 0.4082, 0.8009, 29.8241, 126.0968]\n",
            "Call price: 12.965712062445675\n",
            "Put price: 64.74050400709135\n"
          ]
        }
      ],
      "source": [
        "# test to see it worked\n",
        "\n",
        "print(samples_with_prices[9000])\n",
        "print('Call price: ' + str(Black_scholes('call', 239.7608, 304.3809, 0.0986, 0.4373, 0.4671)))\n",
        "print('Put price: ' + str(Black_scholes('put', 239.7608, 304.3809, 0.0986, 0.4373, 0.4671)))"
      ]
    },
    {
      "cell_type": "code",
      "execution_count": null,
      "id": "41c473fc-cc2b-4417-b944-22d7787c3f97",
      "metadata": {
        "id": "41c473fc-cc2b-4417-b944-22d7787c3f97",
        "outputId": "84604a0c-dc09-467a-dc86-e213ae706487"
      },
      "outputs": [
        {
          "name": "stdout",
          "output_type": "stream",
          "text": [
            "1000000\n"
          ]
        }
      ],
      "source": [
        "# check for 1,000,000 samples\n",
        "\n",
        "print(len(samples_with_prices))"
      ]
    },
    {
      "cell_type": "code",
      "execution_count": null,
      "id": "2d460487-0206-4f46-9d14-2d3ddfe2a96c",
      "metadata": {
        "id": "2d460487-0206-4f46-9d14-2d3ddfe2a96c"
      },
      "outputs": [],
      "source": [
        "# saving to .csv file\n",
        "np.savetxt(\"bs_data.csv\", samples_with_prices, delimiter=\",\", )"
      ]
    },
    {
      "cell_type": "code",
      "execution_count": null,
      "id": "a71485fb-3b03-497f-8b39-28e04e695592",
      "metadata": {
        "id": "a71485fb-3b03-497f-8b39-28e04e695592",
        "outputId": "59298477-c5aa-4573-aa15-3803cbd5746c"
      },
      "outputs": [
        {
          "name": "stdout",
          "output_type": "stream",
          "text": [
            "ITM calls: 499876\n",
            "OTM calls: 500124\n"
          ]
        }
      ],
      "source": [
        "# comparison of ITM vs OTM sample points\n",
        "otm_c = 0\n",
        "itm_c = 0\n",
        "for i in samples_with_prices:\n",
        "    if i[0] < i[1]:\n",
        "        otm_c += 1\n",
        "    if i[0] > i[1]:\n",
        "        itm_c += 1\n",
        "\n",
        "print('ITM calls: ' + str(itm_c))\n",
        "print('OTM calls: ' + str(otm_c))"
      ]
    },
    {
      "cell_type": "code",
      "execution_count": null,
      "id": "87607427-ac83-4768-a5ee-1014efa6995c",
      "metadata": {
        "id": "87607427-ac83-4768-a5ee-1014efa6995c"
      },
      "outputs": [],
      "source": [
        "# out-of-sample data for testing\n",
        "\n",
        "oos_sampler = LatinHypercube(5).random(n=50000)\n",
        "oos_samples = scale(oos_sampler, [400, 250, 0.02, 0.2, 0.05], [500, 650, 0.1, 1, 1])\n",
        "\n",
        "oos_with_prices = []\n",
        "\n",
        "# loop over hypercube samples and add their corresponding call and put prices to them\n",
        "for i in range(len(oos_samples+1)):\n",
        "    call_price = Black_scholes('call',round(oos_samples[i][0],4), round(oos_samples[i][1],4),round(oos_samples[i][2],4),\n",
        "                        round(oos_samples[i][3],4),round(oos_samples[i][4],4))\n",
        "    \n",
        "    put_price = Black_scholes('put',round(oos_samples[i][0],4), round(oos_samples[i][1],4),round(oos_samples[i][2],4),\n",
        "                        round(oos_samples[i][3],4),round(oos_samples[i][4],4))\n",
        "    \n",
        "    updated_sample = new_instance = [round(oos_samples[i][0],4), round(oos_samples[i][1],4),round(oos_samples[i][2],4),\n",
        "                    round(oos_samples[i][3],4),round(oos_samples[i][4],4),round(call_price,4), round(put_price, 4)]\n",
        "    \n",
        "    oos_with_prices.append(updated_sample)\n",
        "\n",
        "np.savetxt(\"out_of_sample_bs_data.csv\", oos_with_prices, delimiter=\",\", )"
      ]
    }
  ],
  "metadata": {
    "kernelspec": {
      "display_name": "Python 3 (ipykernel)",
      "language": "python",
      "name": "python3"
    },
    "language_info": {
      "codemirror_mode": {
        "name": "ipython",
        "version": 3
      },
      "file_extension": ".py",
      "mimetype": "text/x-python",
      "name": "python",
      "nbconvert_exporter": "python",
      "pygments_lexer": "ipython3",
      "version": "3.8.12"
    },
    "colab": {
      "name": "black_scholes_data_creation.ipynb",
      "provenance": [],
      "collapsed_sections": []
    }
  },
  "nbformat": 4,
  "nbformat_minor": 5
}