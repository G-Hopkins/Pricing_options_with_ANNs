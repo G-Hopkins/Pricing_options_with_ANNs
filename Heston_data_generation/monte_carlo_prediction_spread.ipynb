{
  "cells": [
    {
      "cell_type": "markdown",
      "source": [
        "## Dataset creation to see how much Heston Monte Carlo price predictions can differ "
      ],
      "metadata": {
        "id": "gN1vMfJfD-LC"
      },
      "id": "gN1vMfJfD-LC"
    },
    {
      "cell_type": "code",
      "execution_count": null,
      "id": "cbdf4ba3-bd68-45ad-b6b7-0bf68be50000",
      "metadata": {
        "id": "cbdf4ba3-bd68-45ad-b6b7-0bf68be50000"
      },
      "outputs": [],
      "source": [
        "# necessary modules\n",
        "import numpy as np\n",
        "from scipy.stats.qmc import LatinHypercube,discrepancy, scale\n",
        "from monte_carlo_class import MonteCarloOptionPricing"
      ]
    },
    {
      "cell_type": "code",
      "execution_count": null,
      "id": "9025cf9a-af7b-4732-9485-d152a437846d",
      "metadata": {
        "id": "9025cf9a-af7b-4732-9485-d152a437846d"
      },
      "outputs": [],
      "source": [
        "# list to hold heston data points\n",
        "list_of_expected_prices = []\n",
        "\n",
        "sampler = LatinHypercube(9).random(n=1000)\n",
        "samples = scale(sampler, [200, 100, 0.2, 0.02, 0.05, 0.25, 0.2, 0, -0.9],[300, 400, 1, 0.1, 0.6, 1, 0.4, 0.3,0])\n",
        "\n",
        "# 10 generic data points for Heston inputs\n",
        "ten_samples_to_see_avg_distance = [[250,230, 0.5, 0.08, 0.3, 0.35, 0.25, 0.2, -0.3],\n",
        "                                  [240,210, 0.6, 0.04, 0.3, 0.25, 0.22, 0.2, -0.4],\n",
        "                                  [280,300, 0.7, 0.05, 0.3, 0.5, 0.21, 0.15, -0.6],\n",
        "                                  [210,170, 0.8, 0.08, 0.3, 0.6, 0.29, 0.05, -0.7],\n",
        "                                  [215,230, 0.5, 0.09, 0.3, 0.7, 0.3, 0.1, -0.3],\n",
        "                                  [220,360, 0.3, 0.04, 0.3, 0.6, 0.25, 0.1, -0.3],\n",
        "                                  [256,120, 0.4, 0.02, 0.3, 0.9, 0.35, 0.23, -0.4],\n",
        "                                  [251,330, 0.4, 0.08, 0.3, 0.5, 0.25, 0.22, -0.5],\n",
        "                                  [292,310, 0.8, 0.07, 0.3, 0.6, 0.22, 0.21, -0.6],\n",
        "                                  [264,199, 0.9, 0.07, 0.3, 0.7, 0.23, 0.15, -0.7]]\n",
        "\n",
        "for i in samples:\n",
        "    list_to_hold_expected_prices = []\n",
        "    for j in range(10):\n",
        "        MC = MonteCarloOptionPricing(S0 = i[0],\n",
        "                                     K = i[1],\n",
        "                                     T = i[2],\n",
        "                                     r = i[3],\n",
        "                                     sigma = i[4],\n",
        "                                     div_yield = 0,\n",
        "                                     simulation_rounds = 10000,\n",
        "                                     no_of_slices = 40,\n",
        "                                     fix_random_seed = False)\n",
        "\n",
        "        MC.heston(kappa= i[5],\n",
        "                  theta = i[6],\n",
        "                  sigma_v = i[7],\n",
        "                  rho = i[8])\n",
        "\n",
        "        MC.stock_price_simulation()\n",
        "\n",
        "\n",
        "        scaled_call_price = MC.european_call() / i[1]\n",
        "        \n",
        "        list_to_hold_expected_prices.append(scaled_call_prices)\n",
        "    list_of_expected_prices.append(list_to_hold_expected_prices)\n"
      ]
    },
    {
      "cell_type": "code",
      "execution_count": null,
      "id": "f0372416-ab6f-4d12-931d-82236258cd40",
      "metadata": {
        "id": "f0372416-ab6f-4d12-931d-82236258cd40"
      },
      "outputs": [],
      "source": [
        "# saving the 10 price valuations for each sampling space\n",
        "np.savetxt(\"heston_thousand_samples_with_ten_prices.csv\", list_of_expected_prices, delimiter=\",\", )"
      ]
    }
  ],
  "metadata": {
    "kernelspec": {
      "display_name": "Python 3 (ipykernel)",
      "language": "python",
      "name": "python3"
    },
    "language_info": {
      "codemirror_mode": {
        "name": "ipython",
        "version": 3
      },
      "file_extension": ".py",
      "mimetype": "text/x-python",
      "name": "python",
      "nbconvert_exporter": "python",
      "pygments_lexer": "ipython3",
      "version": "3.8.12"
    },
    "colab": {
      "name": "monte_carlo_prediction_spread.ipynb",
      "provenance": [],
      "collapsed_sections": []
    }
  },
  "nbformat": 4,
  "nbformat_minor": 5
}