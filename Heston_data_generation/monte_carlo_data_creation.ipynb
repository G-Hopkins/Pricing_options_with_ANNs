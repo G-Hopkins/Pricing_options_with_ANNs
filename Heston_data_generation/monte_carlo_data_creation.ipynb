{
 "cells": [
  {
   "cell_type": "code",
   "execution_count": null,
   "id": "01c897ea-b071-41e0-9ec4-aede62376267",
   "metadata": {
    "id": "01c897ea-b071-41e0-9ec4-aede62376267"
   },
   "outputs": [],
   "source": [
    "# necessary modules\n",
    "\n",
    "import numpy as np\n",
    "from scipy.stats.qmc import LatinHypercube,discrepancy, scale\n",
    "from monte_carlo_class import MonteCarloOptionPricing"
   ]
  },
  {
   "cell_type": "code",
   "execution_count": null,
   "id": "d804d7ae-f424-4038-a1f9-eac9d95315f7",
   "metadata": {
    "id": "d804d7ae-f424-4038-a1f9-eac9d95315f7",
    "outputId": "66abf642-e5cb-4226-80ee-43e2050fc884"
   },
   "outputs": [
    {
     "name": "stdout",
     "output_type": "stream",
     "text": [
      "LHS Space Size: (200000, 9)\n"
     ]
    }
   ],
   "source": [
    "# LHS space creation for 9 variables with 200,000 samples (200000, 9)\n",
    "sampler = LatinHypercube(9).random(n=200000)\n",
    "print('LHS Space Size: ' + str(sampler.shape))"
   ]
  },
  {
   "cell_type": "code",
   "execution_count": null,
   "id": "0976586f-adb5-46cc-a5f5-775f1a755fa3",
   "metadata": {
    "id": "0976586f-adb5-46cc-a5f5-775f1a755fa3",
    "outputId": "963e38fa-b58f-4241-8a22-9b90dee6f082"
   },
   "outputs": [
    {
     "name": "stdout",
     "output_type": "stream",
     "text": [
      "Iteration: 0\n",
      "Iteration: 10000\n",
      "Iteration: 20000\n",
      "Iteration: 30000\n",
      "Iteration: 40000\n",
      "Iteration: 50000\n",
      "Iteration: 60000\n",
      "Iteration: 70000\n",
      "Iteration: 80000\n",
      "Iteration: 90000\n",
      "Iteration: 100000\n",
      "Iteration: 110000\n",
      "Iteration: 120000\n",
      "Iteration: 130000\n",
      "Iteration: 140000\n",
      "Iteration: 150000\n",
      "Iteration: 160000\n",
      "Iteration: 170000\n",
      "Iteration: 180000\n",
      "Iteration: 190000\n"
     ]
    }
   ],
   "source": [
    "# spot price, strike price, risk-free-rate, time-to-maturity, initial variance, volatility of volatility,\n",
    "# long average variance, reversion speed, correlation\n",
    "samples = scale(sampler, [200, 100, 0.02, 0.2, 0.05, 0, 0.2, 0.25, -0.9], [300, 400, 0.1, 1, 0.6, 0.3, 0.4, 1, 0])\n",
    "\n",
    "# list to append prices to with their samples\n",
    "samples_with_prices = []\n",
    "\n",
    "# loop over hypercube samples and add their corresponding call and put prices to them\n",
    "for i in range(len(samples+1)):\n",
    "    \n",
    "    MC = MonteCarloOptionPricing(S0 = round(samples[i][0], 4),\n",
    "                                 K = round(samples[i][1], 4),\n",
    "                                 T = round(samples[i][3], 4),\n",
    "                                 r = round(samples[i][2], 4),\n",
    "                                 sigma = round(samples[i][4], 4),\n",
    "                                 div_yield = 0,\n",
    "                                 simulation_rounds = 10000,\n",
    "                                 no_of_slices = 40,\n",
    "                                 fix_random_seed = False)\n",
    "    \n",
    "    MC.heston(kappa= round(samples[i][7], 4),\n",
    "              theta = round(samples[i][6], 4),\n",
    "              sigma_v = round(samples[i][5], 4),\n",
    "              rho = round(samples[i][8], 4))\n",
    "                                 \n",
    "    MC.stock_price_simulation()\n",
    "    \n",
    "    \n",
    "    call_price = MC.european_call()\n",
    "    \n",
    "    put_price = MC.european_put(call_price)\n",
    "    \n",
    "    updated_sample = [round(samples[i][0],4), round(samples[i][1],4),round(samples[i][2],4),\n",
    "                    round(samples[i][3],4),round(samples[i][4],4),round(samples[i][5],4),\n",
    "                    round(samples[i][6],4),round(samples[i][7],4),round(samples[i][8],4),\n",
    "                    round(call_price,4), round(put_price, 4)]\n",
    "    \n",
    "    if i % 10000 == 0:\n",
    "        print('Iteration: ' + str(i))\n",
    "    \n",
    "    samples_with_prices.append(updated_sample)"
   ]
  },
  {
   "cell_type": "code",
   "execution_count": null,
   "id": "e441516a-4363-4a31-8a54-a194c6511456",
   "metadata": {
    "id": "e441516a-4363-4a31-8a54-a194c6511456",
    "outputId": "3bdfc2e1-7e9a-40c3-b6fe-9b4784be7b5e"
   },
   "outputs": [
    {
     "name": "stdout",
     "output_type": "stream",
     "text": [
      "[242.9601, 243.4635, 0.0282, 0.4172, 0.3332, 0.2369, 0.2815, 0.3905, -0.0129, 17.6559, 15.3117]\n"
     ]
    }
   ],
   "source": [
    "# test to see it worked\n",
    "\n",
    "print(samples_with_prices[9000])"
   ]
  },
  {
   "cell_type": "code",
   "execution_count": null,
   "id": "923d15ea-b10a-4cce-8380-6e92b5eb26a0",
   "metadata": {
    "id": "923d15ea-b10a-4cce-8380-6e92b5eb26a0"
   },
   "outputs": [],
   "source": [
    "# saving\n",
    "np.savetxt(\"heston_data\", samples_with_prices, delimiter=\",\", )"
   ]
  },
  {
   "cell_type": "code",
   "execution_count": null,
   "id": "5fdd385f-a483-4116-b974-71f5c8469dee",
   "metadata": {
    "id": "5fdd385f-a483-4116-b974-71f5c8469dee"
   },
   "outputs": [],
   "source": []
  }
 ],
 "metadata": {
  "colab": {
   "collapsed_sections": [],
   "name": "monte_carlo_data_creation.ipynb",
   "provenance": []
  },
  "kernelspec": {
   "display_name": "Python 3 (ipykernel)",
   "language": "python",
   "name": "python3"
  },
  "language_info": {
   "codemirror_mode": {
    "name": "ipython",
    "version": 3
   },
   "file_extension": ".py",
   "mimetype": "text/x-python",
   "name": "python",
   "nbconvert_exporter": "python",
   "pygments_lexer": "ipython3",
   "version": "3.8.12"
  }
 },
 "nbformat": 4,
 "nbformat_minor": 5
}
